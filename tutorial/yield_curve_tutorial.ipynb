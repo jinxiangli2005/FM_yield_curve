{
 "cells": [
  {
   "cell_type": "markdown",
   "id": "f8e68ff7",
   "metadata": {},
   "source": [
    "---\n",
    "# Tutorial Task: Create a Forward Bank Bill Class #\n",
    "---\n",
    "In this tutorial, you will use the Bank Bill and Bond classes to create a Forward Bank Bill class.\n",
    "\n",
    "### Step 1:\n",
    "\n",
    "Create some bank bill and bond instruments.\n",
    "\n",
    "### Step 2:\n",
    "\n",
    "Create a yield curve using these instruments.\n",
    "\n",
    "### Step 3:\n",
    "\n",
    "Design a new Forward Bank Bill class which inherits from the Bank Bill class and uses the yield curve to give an arbitrage-free yield.\n",
    "\n",
    "---\n",
    "\n",
    "## Refresher on Classes\n",
    "\n",
    "### What is a Class\n",
    "In programming, a class is a way to organize and group data and functions together into a single unit by describing:\n",
    "\n",
    "- What information the thing should have (its properties)\n",
    "\n",
    "- What actions the thing should be able to do (its behavior)\n",
    "\n",
    "The information inside a class is called attributes , and the actions are called methods (which are just functions inside the class).\n",
    "\n",
    "Once you define a class, you can create multiple objects from it.\n",
    "Each object will have its own copy of the attributes and will be able to use the methods.\n",
    "\n",
    "This process of making an object from a class is called instantiation, and the object is called an instance of the class.\n",
    "\n",
    "### Inheritance\n",
    "Inheritance is when a new class automatically gets the attributes and methods from an existing class.\n",
    "\n",
    "The class you start from is called the parent class (or superclass).\n",
    "The new class you make is called the child class (or subclass).\n",
    "\n",
    "The child class inherits everything from the parent class and can:\n",
    "\n",
    "- Use everything the parent already has\n",
    "\n",
    "- Add new things of its own\n",
    "\n",
    "- Change (override) things if needed\n",
    "\n",
    "\n",
    "---"
   ]
  },
  {
   "cell_type": "markdown",
   "id": "7d1c4eb1",
   "metadata": {},
   "source": [
    "### Step 0:\n",
    "\n",
    "Import pre-existing classes"
   ]
  },
  {
   "cell_type": "code",
   "execution_count": 1,
   "id": "a29772d4",
   "metadata": {},
   "outputs": [],
   "source": [
    "import sys\n",
    "sys.path.append('..')  # Add the parent directory to the system path\n",
    "from instrument_classes import Bank_bill, Bond, Portfolio\n",
    "from curve_classes_and_functions import ZeroCurve, YieldCurve\n"
   ]
  },
  {
   "cell_type": "markdown",
   "id": "d0bfc6af",
   "metadata": {},
   "source": [
    "---\n",
    "\n",
    "### Step 1:\n",
    "\n",
    "Let's define a few bank bills and bonds."
   ]
  },
  {
   "cell_type": "code",
   "execution_count": null,
   "id": "2e44d198",
   "metadata": {},
   "outputs": [],
   "source": [
    "# saves bill1 variable as a bank_bill class\n",
    "bill1 = Bank_bill()\n",
    "bill1.set_ytm(0.06) # sets yield-to-maturity (ytm) as 6%\n",
    "bill1.set_cash_flows()\n",
    "\n"
   ]
  },
  {
   "cell_type": "code",
   "execution_count": null,
   "id": "8351d0c4",
   "metadata": {},
   "outputs": [
    {
     "data": {
      "text/plain": [
       "98.52216748768474"
      ]
     },
     "execution_count": 4,
     "metadata": {},
     "output_type": "execute_result"
    }
   ],
   "source": [
    "bill1.get_price() # get cost of bill1 (how much ud have to pay)"
   ]
  },
  {
   "cell_type": "code",
   "execution_count": 6,
   "id": "ada689d1",
   "metadata": {},
   "outputs": [],
   "source": [
    "bill2 = Bank_bill()\n",
    "bill2.set_ytm(0.065)\n",
    "bill2.set_cash_flows()"
   ]
  },
  {
   "cell_type": "code",
   "execution_count": null,
   "id": "84754038",
   "metadata": {},
   "outputs": [],
   "source": [
    "bond1 = Bond(face_value = 100, maturity = 1, coupon = 0.05, frequency = 2) #maturity is in years, frequency is how many coupon payments in one year\n",
    "bond1.set_ytm(0.07)\n",
    "bond1.set_cash_flows()\n"
   ]
  },
  {
   "cell_type": "code",
   "execution_count": 7,
   "id": "d3a90c42",
   "metadata": {},
   "outputs": [],
   "source": [
    "bond2 = Bond(face_value=100, maturity=2, coupon=0.06, frequency=1)\n",
    "bond2.set_ytm(0.075)\n",
    "bond2.set_cash_flows()"
   ]
  },
  {
   "cell_type": "markdown",
   "id": "e29d39c3",
   "metadata": {},
   "source": [
    "---\n",
    "\n",
    "### Step 2:\n",
    "\n",
    "Now we can use the Portfolio class to aggregate the instruments that we have created. Then we pass the portfolio to the YieldCurve class to bootstrap a yield curve."
   ]
  },
  {
   "cell_type": "code",
   "execution_count": null,
   "id": "3ae0c648",
   "metadata": {},
   "outputs": [],
   "source": [
    "portfolio = Portfolio()\n",
    "portfolio.add_bank_bill(bill1)\n",
    "portfolio.add_bank_bill(bill2)\n",
    "portfolio.add_bond(bond1)\n",
    "portfolio.add_bond(bond2)\n",
    "portfolio.set_cash_flows()\n"
   ]
  },
  {
   "cell_type": "code",
   "execution_count": 9,
   "id": "200d4c62",
   "metadata": {},
   "outputs": [
    {
     "data": {
      "text/plain": [
       "[<instrument_classes.Bond at 0x76ed6c173bc0>,\n",
       " <instrument_classes.Bond at 0x76ed6c170c80>]"
      ]
     },
     "execution_count": 9,
     "metadata": {},
     "output_type": "execute_result"
    }
   ],
   "source": [
    "portfolio.get_bonds()"
   ]
  },
  {
   "cell_type": "code",
   "execution_count": 10,
   "id": "d9ace6e1",
   "metadata": {},
   "outputs": [
    {
     "data": {
      "text/plain": [
       "[<instrument_classes.Bank_bill at 0x76ed6f1697f0>,\n",
       " <instrument_classes.Bank_bill at 0x76ed6f16a630>]"
      ]
     },
     "execution_count": 10,
     "metadata": {},
     "output_type": "execute_result"
    }
   ],
   "source": [
    "portfolio.get_bank_bills()"
   ]
  },
  {
   "cell_type": "code",
   "execution_count": 18,
   "id": "538ba650",
   "metadata": {},
   "outputs": [
    {
     "ename": "IndexError",
     "evalue": "index 3 is out of bounds for axis 0 with size 3",
     "output_type": "error",
     "traceback": [
      "\u001b[31m---------------------------------------------------------------------------\u001b[39m",
      "\u001b[31mIndexError\u001b[39m                                Traceback (most recent call last)",
      "\u001b[36mCell\u001b[39m\u001b[36m \u001b[39m\u001b[32mIn[18]\u001b[39m\u001b[32m, line 3\u001b[39m\n\u001b[32m      1\u001b[39m yc = YieldCurve()\n\u001b[32m      2\u001b[39m yc.set_constituent_portfolio(portfolio)\n\u001b[32m----> \u001b[39m\u001b[32m3\u001b[39m \u001b[43myc\u001b[49m\u001b[43m.\u001b[49m\u001b[43mbootstrap\u001b[49m\u001b[43m(\u001b[49m\u001b[43m)\u001b[49m\n",
      "\u001b[36mFile \u001b[39m\u001b[32m/workspaces/FM_yield_curve/tutorial/../curve_classes_and_functions.py:113\u001b[39m, in \u001b[36mYieldCurve.bootstrap\u001b[39m\u001b[34m(self)\u001b[39m\n\u001b[32m    111\u001b[39m bond_amounts = bond.get_amounts()\n\u001b[32m    112\u001b[39m \u001b[38;5;28;01mfor\u001b[39;00m i \u001b[38;5;129;01min\u001b[39;00m \u001b[38;5;28mrange\u001b[39m(\u001b[32m1\u001b[39m, \u001b[38;5;28mlen\u001b[39m(bond_amounts)-\u001b[32m1\u001b[39m):\n\u001b[32m--> \u001b[39m\u001b[32m113\u001b[39m     pv += bond_amounts[i]*\u001b[38;5;28;43mself\u001b[39;49m\u001b[43m.\u001b[49m\u001b[43mget_discount_factor\u001b[49m\u001b[43m(\u001b[49m\u001b[43mbond_dates\u001b[49m\u001b[43m[\u001b[49m\u001b[43mi\u001b[49m\u001b[43m]\u001b[49m\u001b[43m)\u001b[49m\n\u001b[32m    114\u001b[39m \u001b[38;5;28mprint\u001b[39m(\u001b[33m\"\u001b[39m\u001b[33mPV of all the cashflows except maturity is: \u001b[39m\u001b[33m\"\u001b[39m, pv)\n\u001b[32m    115\u001b[39m \u001b[38;5;28mprint\u001b[39m(\u001b[33m\"\u001b[39m\u001b[33mThe bond price is: \u001b[39m\u001b[33m\"\u001b[39m, bond.get_price())\n",
      "\u001b[36mFile \u001b[39m\u001b[32m/workspaces/FM_yield_curve/tutorial/../curve_classes_and_functions.py:43\u001b[39m, in \u001b[36mZeroCurve.get_discount_factor\u001b[39m\u001b[34m(self, maturity)\u001b[39m\n\u001b[32m     41\u001b[39m     \u001b[38;5;28;01mreturn\u001b[39;00m \u001b[38;5;28mself\u001b[39m.discount_factors[\u001b[38;5;28mself\u001b[39m.maturities.index(maturity)]\n\u001b[32m     42\u001b[39m \u001b[38;5;28;01melse\u001b[39;00m:\n\u001b[32m---> \u001b[39m\u001b[32m43\u001b[39m     \u001b[38;5;28;01mreturn\u001b[39;00m \u001b[43mexp_interp\u001b[49m\u001b[43m(\u001b[49m\u001b[38;5;28;43mself\u001b[39;49m\u001b[43m.\u001b[49m\u001b[43mmaturities\u001b[49m\u001b[43m,\u001b[49m\u001b[43m \u001b[49m\u001b[38;5;28;43mself\u001b[39;49m\u001b[43m.\u001b[49m\u001b[43mdiscount_factors\u001b[49m\u001b[43m,\u001b[49m\u001b[43m \u001b[49m\u001b[43mmaturity\u001b[49m\u001b[43m)\u001b[49m\n",
      "\u001b[36mFile \u001b[39m\u001b[32m/workspaces/FM_yield_curve/tutorial/../curve_classes_and_functions.py:78\u001b[39m, in \u001b[36mexp_interp\u001b[39m\u001b[34m(xs, ys, x)\u001b[39m\n\u001b[32m     76\u001b[39m \u001b[38;5;66;03m# Find the interval [x0, x1] where x0 <= x <= x1\u001b[39;00m\n\u001b[32m     77\u001b[39m idx = np.searchsorted(xs, x) - \u001b[32m1\u001b[39m\n\u001b[32m---> \u001b[39m\u001b[32m78\u001b[39m x0, x1 = xs[idx], \u001b[43mxs\u001b[49m\u001b[43m[\u001b[49m\u001b[43midx\u001b[49m\u001b[43m \u001b[49m\u001b[43m+\u001b[49m\u001b[43m \u001b[49m\u001b[32;43m1\u001b[39;49m\u001b[43m]\u001b[49m\n\u001b[32m     79\u001b[39m y0, y1 = ys[idx], ys[idx + \u001b[32m1\u001b[39m]\n\u001b[32m     81\u001b[39m \u001b[38;5;66;03m# Calculate the continuously compounded rate\u001b[39;00m\n",
      "\u001b[31mIndexError\u001b[39m: index 3 is out of bounds for axis 0 with size 3"
     ]
    }
   ],
   "source": [
    "yc = YieldCurve()\n",
    "yc.set_constituent_portfolio(portfolio)\n",
    "yc.bootstrap()"
   ]
  },
  {
   "cell_type": "code",
   "execution_count": null,
   "id": "cd9766fb",
   "metadata": {},
   "outputs": [
    {
     "data": {
      "text/plain": [
       "([0, 0.25, 0.25], [1.0, 0.9852216748768474, 0.9840098400984009])"
      ]
     },
     "execution_count": 15,
     "metadata": {},
     "output_type": "execute_result"
    }
   ],
   "source": [
    "yc.get_zero_curve() #get zero curves\n"
   ]
  },
  {
   "cell_type": "markdown",
   "id": "db1c8205",
   "metadata": {},
   "source": [
    "---\n",
    "\n",
    "### Step 3:\n",
    "\n",
    "Now let's try creating our own class. This will be a Forward Bank Bill class, and will have the ability to price a forward bank bill."
   ]
  },
  {
   "cell_type": "code",
   "execution_count": 16,
   "id": "cb896742",
   "metadata": {},
   "outputs": [
    {
     "ename": "IndexError",
     "evalue": "index 3 is out of bounds for axis 0 with size 3",
     "output_type": "error",
     "traceback": [
      "\u001b[31m---------------------------------------------------------------------------\u001b[39m",
      "\u001b[31mIndexError\u001b[39m                                Traceback (most recent call last)",
      "\u001b[36mCell\u001b[39m\u001b[36m \u001b[39m\u001b[32mIn[16]\u001b[39m\u001b[32m, line 1\u001b[39m\n\u001b[32m----> \u001b[39m\u001b[32m1\u001b[39m \u001b[43myc\u001b[49m\u001b[43m.\u001b[49m\u001b[43mnpv\u001b[49m\u001b[43m(\u001b[49m\u001b[43mportfolio\u001b[49m\u001b[43m)\u001b[49m\n",
      "\u001b[36mFile \u001b[39m\u001b[32m/workspaces/FM_yield_curve/tutorial/../curve_classes_and_functions.py:57\u001b[39m, in \u001b[36mZeroCurve.npv\u001b[39m\u001b[34m(self, cash_flows)\u001b[39m\n\u001b[32m     55\u001b[39m npv = \u001b[32m0\u001b[39m\n\u001b[32m     56\u001b[39m \u001b[38;5;28;01mfor\u001b[39;00m maturity \u001b[38;5;129;01min\u001b[39;00m cash_flows.get_maturities():\n\u001b[32m---> \u001b[39m\u001b[32m57\u001b[39m     npv += cash_flows.get_cash_flow(maturity)*\u001b[38;5;28;43mself\u001b[39;49m\u001b[43m.\u001b[49m\u001b[43mget_discount_factor\u001b[49m\u001b[43m(\u001b[49m\u001b[43mmaturity\u001b[49m\u001b[43m)\u001b[49m\n\u001b[32m     58\u001b[39m \u001b[38;5;28;01mreturn\u001b[39;00m npv\n",
      "\u001b[36mFile \u001b[39m\u001b[32m/workspaces/FM_yield_curve/tutorial/../curve_classes_and_functions.py:43\u001b[39m, in \u001b[36mZeroCurve.get_discount_factor\u001b[39m\u001b[34m(self, maturity)\u001b[39m\n\u001b[32m     41\u001b[39m     \u001b[38;5;28;01mreturn\u001b[39;00m \u001b[38;5;28mself\u001b[39m.discount_factors[\u001b[38;5;28mself\u001b[39m.maturities.index(maturity)]\n\u001b[32m     42\u001b[39m \u001b[38;5;28;01melse\u001b[39;00m:\n\u001b[32m---> \u001b[39m\u001b[32m43\u001b[39m     \u001b[38;5;28;01mreturn\u001b[39;00m \u001b[43mexp_interp\u001b[49m\u001b[43m(\u001b[49m\u001b[38;5;28;43mself\u001b[39;49m\u001b[43m.\u001b[49m\u001b[43mmaturities\u001b[49m\u001b[43m,\u001b[49m\u001b[43m \u001b[49m\u001b[38;5;28;43mself\u001b[39;49m\u001b[43m.\u001b[49m\u001b[43mdiscount_factors\u001b[49m\u001b[43m,\u001b[49m\u001b[43m \u001b[49m\u001b[43mmaturity\u001b[49m\u001b[43m)\u001b[49m\n",
      "\u001b[36mFile \u001b[39m\u001b[32m/workspaces/FM_yield_curve/tutorial/../curve_classes_and_functions.py:78\u001b[39m, in \u001b[36mexp_interp\u001b[39m\u001b[34m(xs, ys, x)\u001b[39m\n\u001b[32m     76\u001b[39m \u001b[38;5;66;03m# Find the interval [x0, x1] where x0 <= x <= x1\u001b[39;00m\n\u001b[32m     77\u001b[39m idx = np.searchsorted(xs, x) - \u001b[32m1\u001b[39m\n\u001b[32m---> \u001b[39m\u001b[32m78\u001b[39m x0, x1 = xs[idx], \u001b[43mxs\u001b[49m\u001b[43m[\u001b[49m\u001b[43midx\u001b[49m\u001b[43m \u001b[49m\u001b[43m+\u001b[49m\u001b[43m \u001b[49m\u001b[32;43m1\u001b[39;49m\u001b[43m]\u001b[49m\n\u001b[32m     79\u001b[39m y0, y1 = ys[idx], ys[idx + \u001b[32m1\u001b[39m]\n\u001b[32m     81\u001b[39m \u001b[38;5;66;03m# Calculate the continuously compounded rate\u001b[39;00m\n",
      "\u001b[31mIndexError\u001b[39m: index 3 is out of bounds for axis 0 with size 3"
     ]
    }
   ],
   "source": [
    "yc.npv(portfolio)"
   ]
  },
  {
   "cell_type": "code",
   "execution_count": null,
   "id": "f837b125",
   "metadata": {},
   "outputs": [
    {
     "data": {
      "text/plain": [
       "([0, 0.25, 0.25], [1.0, 0.9852216748768474, 0.9840098400984009])"
      ]
     },
     "execution_count": 14,
     "metadata": {},
     "output_type": "execute_result"
    }
   ],
   "source": [
    "class ForwardBankBill(Bank_bill):\n",
    "    \"\"\"\n",
    "    Forward on a bank bill starting in T2 and maturing at T2\n",
    "    \"\"\"\n",
    "\n",
    "    def __init__(self, start, maturity, face_value=100):\n",
    "        super().__init__(face_value=face_value,ytm=0.0, price=0.0)\n",
    "        self.start = start\n",
    "        self.maturity = maturity\n",
    "        self.term = maturity - start\n",
    "        self.price = None\n",
    "        self.ytm = None\n",
    "\n",
    "        # 1. determining cash flows\n",
    "        def set_cash_flows(self):\n",
    "            self.add_cash_flow(self.start, -self.price)\n",
    "            self.add_cash_flow(self.maturity, self.face_value)\n",
    "\n",
    "        "
   ]
  },
  {
   "cell_type": "code",
   "execution_count": null,
   "id": "95e95e4d",
   "metadata": {},
   "outputs": [
    {
     "name": "stdout",
     "output_type": "stream",
     "text": [
      "PV of all the cashflows except maturity is:  2.4213075060532687\n",
      "The bond price is:  98.10030572475438\n",
      "The last cashflow is:  102.5\n",
      "PV of all the cashflows except maturity is:  5.600721846948358\n",
      "The bond price is:  97.30665224445646\n",
      "The last cashflow is:  106.0\n"
     ]
    },
    {
     "data": {
      "text/plain": [
       "([0, 0.25, 0.5, 1, 2],\n",
       " [1.0,\n",
       "  0.9852216748768474,\n",
       "  0.9685230024213075,\n",
       "  0.9334536411580596,\n",
       "  0.8651502867689443])"
      ]
     },
     "execution_count": 19,
     "metadata": {},
     "output_type": "execute_result"
    }
   ],
   "source": []
  },
  {
   "cell_type": "code",
   "execution_count": null,
   "id": "69b30409",
   "metadata": {},
   "outputs": [],
   "source": [
    "Qs:\n",
    "why are there 2 dscount rates, one for start and one for maturity\n",
    "explaining self.price and self.ytm formulae"
   ]
  }
 ],
 "metadata": {
  "kernelspec": {
   "display_name": "Python 3",
   "language": "python",
   "name": "python3"
  },
  "language_info": {
   "codemirror_mode": {
    "name": "ipython",
    "version": 3
   },
   "file_extension": ".py",
   "mimetype": "text/x-python",
   "name": "python",
   "nbconvert_exporter": "python",
   "pygments_lexer": "ipython3",
   "version": "3.12.1"
  }
 },
 "nbformat": 4,
 "nbformat_minor": 5
}
